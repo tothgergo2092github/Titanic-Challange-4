{
 "cells": [
  {
   "cell_type": "markdown",
   "metadata": {
    "papermill": {
     "duration": 0.04305,
     "end_time": "2021-04-08T02:17:55.268309",
     "exception": false,
     "start_time": "2021-04-08T02:17:55.225259",
     "status": "completed"
    },
    "tags": []
   },
   "source": [
    "# Titanic - KPMG szakmai feladat\n",
    "\n",
    "**Legjobb eredmény : 83,1 % accuracy**\n",
    "\n",
    "**Baseline-nak használt notebook:** https://www.kaggle.com/kenjee/titanic-project-example\n",
    "\n",
    "A SVM-et és k-NN-t nem véletlenszerűen választottam ki az eredeti notebook algoritmusai közül. Elsősorban statisztikai tanuláselméleti hátterük (konzisztencia, reproducing kernel Hilbert spaces, representer theorem), továbbá amiatt a kérés miatt, hogy amennyire lehetséges a modell maradjon egyszerű.\n",
    "\n",
    "A kevés adat miatt a mély tanulással kapcsolatos modellek fel sem merültek a feladat megoldása közben.\n",
    "\n",
    "## Áttekintés \n",
    "### 1) Statisztikai elemzések\n",
    "\n",
    "### 2) Feature Engineering \n",
    "\n",
    "### 3) Preprocesszálás (Adattisztítás + Feature-k véglegesítése)\n",
    "\n",
    "### 4) Modell építése \n",
    "\n",
    "### 5) Modell optimalizálás\n",
    "\n",
    "### 6) Ensemble Modell \n",
    "\n",
    "### 7) Eredmények"
   ]
  },
  {
   "cell_type": "code",
   "execution_count": 81,
   "metadata": {
    "_cell_guid": "b1076dfc-b9ad-4769-8c92-a6c4dae69d19",
    "_uuid": "8f2839f25d086af736a60e9eeb907d3b93b6e0e5",
    "execution": {
     "iopub.execute_input": "2021-04-08T02:17:55.359239Z",
     "iopub.status.busy": "2021-04-08T02:17:55.358492Z",
     "iopub.status.idle": "2021-04-08T02:17:56.257020Z",
     "shell.execute_reply": "2021-04-08T02:17:56.257858Z"
    },
    "papermill": {
     "duration": 0.948924,
     "end_time": "2021-04-08T02:17:56.258150",
     "exception": false,
     "start_time": "2021-04-08T02:17:55.309226",
     "status": "completed"
    },
    "tags": []
   },
   "outputs": [],
   "source": [
    "import numpy as np \n",
    "import pandas as pd \n",
    "import seaborn as sns \n",
    "\n",
    "import matplotlib.pyplot as plt\n",
    "%matplotlib inline"
   ]
  },
  {
   "cell_type": "markdown",
   "metadata": {
    "papermill": {
     "duration": 0.042884,
     "end_time": "2021-04-08T02:17:56.343687",
     "exception": false,
     "start_time": "2021-04-08T02:17:56.300803",
     "status": "completed"
    },
    "tags": []
   },
   "source": [
    "### titanic.zip fájl kicsomagolása"
   ]
  },
  {
   "cell_type": "code",
   "execution_count": 82,
   "metadata": {
    "execution": {
     "iopub.execute_input": "2021-04-08T02:17:56.438644Z",
     "iopub.status.busy": "2021-04-08T02:17:56.437908Z",
     "iopub.status.idle": "2021-04-08T02:17:56.487427Z",
     "shell.execute_reply": "2021-04-08T02:17:56.488017Z"
    },
    "papermill": {
     "duration": 0.102195,
     "end_time": "2021-04-08T02:17:56.488202",
     "exception": false,
     "start_time": "2021-04-08T02:17:56.386007",
     "status": "completed"
    },
    "tags": []
   },
   "outputs": [
    {
     "name": "stdout",
     "output_type": "stream",
     "text": [
      "File Name                                             Modified             Size\n",
      "DA_titanic_test.csv                            2020-09-25 11:59:14        19827\n",
      "DA_titanic_train.csv                           2020-09-25 11:58:52        48431\n",
      "File-ok kicsomagolása...\n",
      "Kész!\n"
     ]
    }
   ],
   "source": [
    "from zipfile import ZipFile\n",
    "\n",
    "ZIP_FILE_NAME = 'titanic.zip'\n",
    "\n",
    "with ZipFile(ZIP_FILE_NAME,'r') as zip:\n",
    "    zip.printdir()\n",
    "    \n",
    "    print('File-ok kicsomagolása...')\n",
    "    zip.extractall()\n",
    "    print('Kész!')"
   ]
  },
  {
   "cell_type": "markdown",
   "metadata": {},
   "source": [
    "### Adatok beolvasása"
   ]
  },
  {
   "cell_type": "code",
   "execution_count": 83,
   "metadata": {},
   "outputs": [
    {
     "data": {
      "text/plain": [
       "Index(['Survived', 'Pclass', 'Name', 'Sex', 'Age', 'SibSp', 'Parch', 'Ticket',\n",
       "       'Fare', 'Cabin', 'Embarked', 'train_test'],\n",
       "      dtype='object')"
      ]
     },
     "execution_count": 83,
     "metadata": {},
     "output_type": "execute_result"
    }
   ],
   "source": [
    "TRAIN_FILE = 'DA_titanic_train.csv'\n",
    "TEST_FILE = 'DA_titanic_test.csv'\n",
    "\n",
    "train = pd.read_csv(TRAIN_FILE, index_col = 'PassengerId')\n",
    "test = pd.read_csv(TEST_FILE, index_col = 'PassengerId')\n",
    "\n",
    "train['train_test'] = 1 #Tanító adatok\n",
    "test['train_test'] = 0 #Nem tanító adatok\n",
    "test['Survived'] = np.NaN\n",
    "\n",
    "all_data = pd.concat([train,test])\n",
    "\n",
    "all_data.columns"
   ]
  },
  {
   "cell_type": "code",
   "execution_count": 84,
   "metadata": {},
   "outputs": [
    {
     "data": {
      "text/html": [
       "<div>\n",
       "<style scoped>\n",
       "    .dataframe tbody tr th:only-of-type {\n",
       "        vertical-align: middle;\n",
       "    }\n",
       "\n",
       "    .dataframe tbody tr th {\n",
       "        vertical-align: top;\n",
       "    }\n",
       "\n",
       "    .dataframe thead th {\n",
       "        text-align: right;\n",
       "    }\n",
       "</style>\n",
       "<table border=\"1\" class=\"dataframe\">\n",
       "  <thead>\n",
       "    <tr style=\"text-align: right;\">\n",
       "      <th></th>\n",
       "      <th>Survived</th>\n",
       "      <th>Pclass</th>\n",
       "      <th>Name</th>\n",
       "      <th>Sex</th>\n",
       "      <th>Age</th>\n",
       "      <th>SibSp</th>\n",
       "      <th>Parch</th>\n",
       "      <th>Ticket</th>\n",
       "      <th>Fare</th>\n",
       "      <th>Cabin</th>\n",
       "      <th>Embarked</th>\n",
       "      <th>train_test</th>\n",
       "    </tr>\n",
       "    <tr>\n",
       "      <th>PassengerId</th>\n",
       "      <th></th>\n",
       "      <th></th>\n",
       "      <th></th>\n",
       "      <th></th>\n",
       "      <th></th>\n",
       "      <th></th>\n",
       "      <th></th>\n",
       "      <th></th>\n",
       "      <th></th>\n",
       "      <th></th>\n",
       "      <th></th>\n",
       "      <th></th>\n",
       "    </tr>\n",
       "  </thead>\n",
       "  <tbody>\n",
       "    <tr>\n",
       "      <th>1</th>\n",
       "      <td>0</td>\n",
       "      <td>3</td>\n",
       "      <td>Braund, Mr. Owen Harris</td>\n",
       "      <td>male</td>\n",
       "      <td>22.0</td>\n",
       "      <td>1</td>\n",
       "      <td>0</td>\n",
       "      <td>A/5 21171</td>\n",
       "      <td>7.2500</td>\n",
       "      <td>NaN</td>\n",
       "      <td>S</td>\n",
       "      <td>1</td>\n",
       "    </tr>\n",
       "    <tr>\n",
       "      <th>2</th>\n",
       "      <td>1</td>\n",
       "      <td>1</td>\n",
       "      <td>Cumings, Mrs. John Bradley (Florence Briggs Th...</td>\n",
       "      <td>female</td>\n",
       "      <td>38.0</td>\n",
       "      <td>1</td>\n",
       "      <td>0</td>\n",
       "      <td>PC 17599</td>\n",
       "      <td>71.2833</td>\n",
       "      <td>C85</td>\n",
       "      <td>C</td>\n",
       "      <td>1</td>\n",
       "    </tr>\n",
       "    <tr>\n",
       "      <th>3</th>\n",
       "      <td>1</td>\n",
       "      <td>3</td>\n",
       "      <td>Heikkinen, Miss. Laina</td>\n",
       "      <td>female</td>\n",
       "      <td>26.0</td>\n",
       "      <td>0</td>\n",
       "      <td>0</td>\n",
       "      <td>STON/O2. 3101282</td>\n",
       "      <td>7.9250</td>\n",
       "      <td>NaN</td>\n",
       "      <td>S</td>\n",
       "      <td>1</td>\n",
       "    </tr>\n",
       "    <tr>\n",
       "      <th>5</th>\n",
       "      <td>0</td>\n",
       "      <td>3</td>\n",
       "      <td>Allen, Mr. William Henry</td>\n",
       "      <td>male</td>\n",
       "      <td>35.0</td>\n",
       "      <td>0</td>\n",
       "      <td>0</td>\n",
       "      <td>373450</td>\n",
       "      <td>8.0500</td>\n",
       "      <td>NaN</td>\n",
       "      <td>S</td>\n",
       "      <td>1</td>\n",
       "    </tr>\n",
       "    <tr>\n",
       "      <th>10</th>\n",
       "      <td>1</td>\n",
       "      <td>2</td>\n",
       "      <td>Nasser, Mrs. Nicholas (Adele Achem)</td>\n",
       "      <td>female</td>\n",
       "      <td>14.0</td>\n",
       "      <td>1</td>\n",
       "      <td>0</td>\n",
       "      <td>237736</td>\n",
       "      <td>30.0708</td>\n",
       "      <td>NaN</td>\n",
       "      <td>C</td>\n",
       "      <td>1</td>\n",
       "    </tr>\n",
       "  </tbody>\n",
       "</table>\n",
       "</div>"
      ],
      "text/plain": [
       "             Survived  Pclass  \\\n",
       "PassengerId                     \n",
       "1                   0       3   \n",
       "2                   1       1   \n",
       "3                   1       3   \n",
       "5                   0       3   \n",
       "10                  1       2   \n",
       "\n",
       "                                                          Name     Sex   Age  \\\n",
       "PassengerId                                                                    \n",
       "1                                      Braund, Mr. Owen Harris    male  22.0   \n",
       "2            Cumings, Mrs. John Bradley (Florence Briggs Th...  female  38.0   \n",
       "3                                       Heikkinen, Miss. Laina  female  26.0   \n",
       "5                                     Allen, Mr. William Henry    male  35.0   \n",
       "10                         Nasser, Mrs. Nicholas (Adele Achem)  female  14.0   \n",
       "\n",
       "             SibSp  Parch            Ticket     Fare Cabin Embarked  \\\n",
       "PassengerId                                                           \n",
       "1                1      0         A/5 21171   7.2500   NaN        S   \n",
       "2                1      0          PC 17599  71.2833   C85        C   \n",
       "3                0      0  STON/O2. 3101282   7.9250   NaN        S   \n",
       "5                0      0            373450   8.0500   NaN        S   \n",
       "10               1      0            237736  30.0708   NaN        C   \n",
       "\n",
       "             train_test  \n",
       "PassengerId              \n",
       "1                     1  \n",
       "2                     1  \n",
       "3                     1  \n",
       "5                     1  \n",
       "10                    1  "
      ]
     },
     "execution_count": 84,
     "metadata": {},
     "output_type": "execute_result"
    }
   ],
   "source": [
    "train.head()"
   ]
  },
  {
   "cell_type": "markdown",
   "metadata": {},
   "source": [
    "## Statisztikai elemzések"
   ]
  },
  {
   "cell_type": "code",
   "execution_count": 85,
   "metadata": {
    "execution": {
     "iopub.execute_input": "2021-04-08T02:17:56.841925Z",
     "iopub.status.busy": "2021-04-08T02:17:56.841258Z",
     "iopub.status.idle": "2021-04-08T02:17:56.854972Z",
     "shell.execute_reply": "2021-04-08T02:17:56.855757Z"
    },
    "papermill": {
     "duration": 0.061009,
     "end_time": "2021-04-08T02:17:56.855961",
     "exception": false,
     "start_time": "2021-04-08T02:17:56.794952",
     "status": "completed"
    },
    "tags": []
   },
   "outputs": [
    {
     "name": "stdout",
     "output_type": "stream",
     "text": [
      "<class 'pandas.core.frame.DataFrame'>\n",
      "Int64Index: 624 entries, 1 to 891\n",
      "Data columns (total 12 columns):\n",
      " #   Column      Non-Null Count  Dtype  \n",
      "---  ------      --------------  -----  \n",
      " 0   Survived    624 non-null    int64  \n",
      " 1   Pclass      624 non-null    int64  \n",
      " 2   Name        624 non-null    object \n",
      " 3   Sex         624 non-null    object \n",
      " 4   Age         494 non-null    float64\n",
      " 5   SibSp       624 non-null    int64  \n",
      " 6   Parch       624 non-null    int64  \n",
      " 7   Ticket      624 non-null    object \n",
      " 8   Fare        624 non-null    float64\n",
      " 9   Cabin       128 non-null    object \n",
      " 10  Embarked    623 non-null    object \n",
      " 11  train_test  624 non-null    int64  \n",
      "dtypes: float64(2), int64(5), object(5)\n",
      "memory usage: 63.4+ KB\n"
     ]
    }
   ],
   "source": [
    "train.info()"
   ]
  },
  {
   "cell_type": "code",
   "execution_count": 86,
   "metadata": {},
   "outputs": [
    {
     "name": "stdout",
     "output_type": "stream",
     "text": [
      "<class 'pandas.core.frame.DataFrame'>\n",
      "Int64Index: 267 entries, 4 to 890\n",
      "Data columns (total 12 columns):\n",
      " #   Column      Non-Null Count  Dtype  \n",
      "---  ------      --------------  -----  \n",
      " 0   Pclass      267 non-null    int64  \n",
      " 1   Name        267 non-null    object \n",
      " 2   Sex         267 non-null    object \n",
      " 3   Age         220 non-null    float64\n",
      " 4   SibSp       267 non-null    int64  \n",
      " 5   Parch       267 non-null    int64  \n",
      " 6   Ticket      267 non-null    object \n",
      " 7   Fare        267 non-null    float64\n",
      " 8   Cabin       76 non-null     object \n",
      " 9   Embarked    266 non-null    object \n",
      " 10  train_test  267 non-null    int64  \n",
      " 11  Survived    0 non-null      float64\n",
      "dtypes: float64(3), int64(4), object(5)\n",
      "memory usage: 27.1+ KB\n"
     ]
    }
   ],
   "source": [
    "test.info()"
   ]
  },
  {
   "cell_type": "code",
   "execution_count": 87,
   "metadata": {
    "execution": {
     "iopub.execute_input": "2021-04-08T02:17:56.950357Z",
     "iopub.status.busy": "2021-04-08T02:17:56.949534Z",
     "iopub.status.idle": "2021-04-08T02:17:56.992972Z",
     "shell.execute_reply": "2021-04-08T02:17:56.992301Z"
    },
    "papermill": {
     "duration": 0.093537,
     "end_time": "2021-04-08T02:17:56.993089",
     "exception": false,
     "start_time": "2021-04-08T02:17:56.899552",
     "status": "completed"
    },
    "tags": []
   },
   "outputs": [
    {
     "data": {
      "text/html": [
       "<div>\n",
       "<style scoped>\n",
       "    .dataframe tbody tr th:only-of-type {\n",
       "        vertical-align: middle;\n",
       "    }\n",
       "\n",
       "    .dataframe tbody tr th {\n",
       "        vertical-align: top;\n",
       "    }\n",
       "\n",
       "    .dataframe thead th {\n",
       "        text-align: right;\n",
       "    }\n",
       "</style>\n",
       "<table border=\"1\" class=\"dataframe\">\n",
       "  <thead>\n",
       "    <tr style=\"text-align: right;\">\n",
       "      <th></th>\n",
       "      <th>Survived</th>\n",
       "      <th>Pclass</th>\n",
       "      <th>Age</th>\n",
       "      <th>SibSp</th>\n",
       "      <th>Parch</th>\n",
       "      <th>Fare</th>\n",
       "      <th>train_test</th>\n",
       "    </tr>\n",
       "  </thead>\n",
       "  <tbody>\n",
       "    <tr>\n",
       "      <th>count</th>\n",
       "      <td>624.000000</td>\n",
       "      <td>624.000000</td>\n",
       "      <td>494.000000</td>\n",
       "      <td>624.000000</td>\n",
       "      <td>624.000000</td>\n",
       "      <td>624.000000</td>\n",
       "      <td>624.0</td>\n",
       "    </tr>\n",
       "    <tr>\n",
       "      <th>mean</th>\n",
       "      <td>0.383013</td>\n",
       "      <td>2.328526</td>\n",
       "      <td>29.658745</td>\n",
       "      <td>0.519231</td>\n",
       "      <td>0.354167</td>\n",
       "      <td>30.523470</td>\n",
       "      <td>1.0</td>\n",
       "    </tr>\n",
       "    <tr>\n",
       "      <th>std</th>\n",
       "      <td>0.486511</td>\n",
       "      <td>0.822684</td>\n",
       "      <td>14.770773</td>\n",
       "      <td>1.071871</td>\n",
       "      <td>0.775559</td>\n",
       "      <td>48.186064</td>\n",
       "      <td>0.0</td>\n",
       "    </tr>\n",
       "    <tr>\n",
       "      <th>min</th>\n",
       "      <td>0.000000</td>\n",
       "      <td>1.000000</td>\n",
       "      <td>0.670000</td>\n",
       "      <td>0.000000</td>\n",
       "      <td>0.000000</td>\n",
       "      <td>0.000000</td>\n",
       "      <td>1.0</td>\n",
       "    </tr>\n",
       "    <tr>\n",
       "      <th>25%</th>\n",
       "      <td>0.000000</td>\n",
       "      <td>2.000000</td>\n",
       "      <td>20.000000</td>\n",
       "      <td>0.000000</td>\n",
       "      <td>0.000000</td>\n",
       "      <td>7.895800</td>\n",
       "      <td>1.0</td>\n",
       "    </tr>\n",
       "    <tr>\n",
       "      <th>50%</th>\n",
       "      <td>0.000000</td>\n",
       "      <td>3.000000</td>\n",
       "      <td>28.000000</td>\n",
       "      <td>0.000000</td>\n",
       "      <td>0.000000</td>\n",
       "      <td>13.931250</td>\n",
       "      <td>1.0</td>\n",
       "    </tr>\n",
       "    <tr>\n",
       "      <th>75%</th>\n",
       "      <td>1.000000</td>\n",
       "      <td>3.000000</td>\n",
       "      <td>38.000000</td>\n",
       "      <td>1.000000</td>\n",
       "      <td>0.000000</td>\n",
       "      <td>30.000000</td>\n",
       "      <td>1.0</td>\n",
       "    </tr>\n",
       "    <tr>\n",
       "      <th>max</th>\n",
       "      <td>1.000000</td>\n",
       "      <td>3.000000</td>\n",
       "      <td>80.000000</td>\n",
       "      <td>8.000000</td>\n",
       "      <td>6.000000</td>\n",
       "      <td>512.329200</td>\n",
       "      <td>1.0</td>\n",
       "    </tr>\n",
       "  </tbody>\n",
       "</table>\n",
       "</div>"
      ],
      "text/plain": [
       "         Survived      Pclass         Age       SibSp       Parch        Fare  \\\n",
       "count  624.000000  624.000000  494.000000  624.000000  624.000000  624.000000   \n",
       "mean     0.383013    2.328526   29.658745    0.519231    0.354167   30.523470   \n",
       "std      0.486511    0.822684   14.770773    1.071871    0.775559   48.186064   \n",
       "min      0.000000    1.000000    0.670000    0.000000    0.000000    0.000000   \n",
       "25%      0.000000    2.000000   20.000000    0.000000    0.000000    7.895800   \n",
       "50%      0.000000    3.000000   28.000000    0.000000    0.000000   13.931250   \n",
       "75%      1.000000    3.000000   38.000000    1.000000    0.000000   30.000000   \n",
       "max      1.000000    3.000000   80.000000    8.000000    6.000000  512.329200   \n",
       "\n",
       "       train_test  \n",
       "count       624.0  \n",
       "mean          1.0  \n",
       "std           0.0  \n",
       "min           1.0  \n",
       "25%           1.0  \n",
       "50%           1.0  \n",
       "75%           1.0  \n",
       "max           1.0  "
      ]
     },
     "execution_count": 87,
     "metadata": {},
     "output_type": "execute_result"
    }
   ],
   "source": [
    "train.describe()"
   ]
  },
  {
   "cell_type": "code",
   "execution_count": 88,
   "metadata": {},
   "outputs": [
    {
     "data": {
      "text/html": [
       "<div>\n",
       "<style scoped>\n",
       "    .dataframe tbody tr th:only-of-type {\n",
       "        vertical-align: middle;\n",
       "    }\n",
       "\n",
       "    .dataframe tbody tr th {\n",
       "        vertical-align: top;\n",
       "    }\n",
       "\n",
       "    .dataframe thead th {\n",
       "        text-align: right;\n",
       "    }\n",
       "</style>\n",
       "<table border=\"1\" class=\"dataframe\">\n",
       "  <thead>\n",
       "    <tr style=\"text-align: right;\">\n",
       "      <th></th>\n",
       "      <th>Pclass</th>\n",
       "      <th>Age</th>\n",
       "      <th>SibSp</th>\n",
       "      <th>Parch</th>\n",
       "      <th>Fare</th>\n",
       "      <th>train_test</th>\n",
       "      <th>Survived</th>\n",
       "    </tr>\n",
       "  </thead>\n",
       "  <tbody>\n",
       "    <tr>\n",
       "      <th>count</th>\n",
       "      <td>267.000000</td>\n",
       "      <td>220.000000</td>\n",
       "      <td>267.000000</td>\n",
       "      <td>267.000000</td>\n",
       "      <td>267.000000</td>\n",
       "      <td>267.0</td>\n",
       "      <td>0.0</td>\n",
       "    </tr>\n",
       "    <tr>\n",
       "      <th>mean</th>\n",
       "      <td>2.262172</td>\n",
       "      <td>29.789773</td>\n",
       "      <td>0.531835</td>\n",
       "      <td>0.445693</td>\n",
       "      <td>36.132224</td>\n",
       "      <td>0.0</td>\n",
       "      <td>NaN</td>\n",
       "    </tr>\n",
       "    <tr>\n",
       "      <th>std</th>\n",
       "      <td>0.866346</td>\n",
       "      <td>13.995008</td>\n",
       "      <td>1.173773</td>\n",
       "      <td>0.871354</td>\n",
       "      <td>52.935439</td>\n",
       "      <td>0.0</td>\n",
       "      <td>NaN</td>\n",
       "    </tr>\n",
       "    <tr>\n",
       "      <th>min</th>\n",
       "      <td>1.000000</td>\n",
       "      <td>0.420000</td>\n",
       "      <td>0.000000</td>\n",
       "      <td>0.000000</td>\n",
       "      <td>0.000000</td>\n",
       "      <td>0.0</td>\n",
       "      <td>NaN</td>\n",
       "    </tr>\n",
       "    <tr>\n",
       "      <th>25%</th>\n",
       "      <td>1.000000</td>\n",
       "      <td>21.000000</td>\n",
       "      <td>0.000000</td>\n",
       "      <td>0.000000</td>\n",
       "      <td>8.050000</td>\n",
       "      <td>0.0</td>\n",
       "      <td>NaN</td>\n",
       "    </tr>\n",
       "    <tr>\n",
       "      <th>50%</th>\n",
       "      <td>3.000000</td>\n",
       "      <td>29.000000</td>\n",
       "      <td>0.000000</td>\n",
       "      <td>0.000000</td>\n",
       "      <td>16.100000</td>\n",
       "      <td>0.0</td>\n",
       "      <td>NaN</td>\n",
       "    </tr>\n",
       "    <tr>\n",
       "      <th>75%</th>\n",
       "      <td>3.000000</td>\n",
       "      <td>39.000000</td>\n",
       "      <td>1.000000</td>\n",
       "      <td>1.000000</td>\n",
       "      <td>36.125000</td>\n",
       "      <td>0.0</td>\n",
       "      <td>NaN</td>\n",
       "    </tr>\n",
       "    <tr>\n",
       "      <th>max</th>\n",
       "      <td>3.000000</td>\n",
       "      <td>70.000000</td>\n",
       "      <td>8.000000</td>\n",
       "      <td>5.000000</td>\n",
       "      <td>512.329200</td>\n",
       "      <td>0.0</td>\n",
       "      <td>NaN</td>\n",
       "    </tr>\n",
       "  </tbody>\n",
       "</table>\n",
       "</div>"
      ],
      "text/plain": [
       "           Pclass         Age       SibSp       Parch        Fare  train_test  \\\n",
       "count  267.000000  220.000000  267.000000  267.000000  267.000000       267.0   \n",
       "mean     2.262172   29.789773    0.531835    0.445693   36.132224         0.0   \n",
       "std      0.866346   13.995008    1.173773    0.871354   52.935439         0.0   \n",
       "min      1.000000    0.420000    0.000000    0.000000    0.000000         0.0   \n",
       "25%      1.000000   21.000000    0.000000    0.000000    8.050000         0.0   \n",
       "50%      3.000000   29.000000    0.000000    0.000000   16.100000         0.0   \n",
       "75%      3.000000   39.000000    1.000000    1.000000   36.125000         0.0   \n",
       "max      3.000000   70.000000    8.000000    5.000000  512.329200         0.0   \n",
       "\n",
       "       Survived  \n",
       "count       0.0  \n",
       "mean        NaN  \n",
       "std         NaN  \n",
       "min         NaN  \n",
       "25%         NaN  \n",
       "50%         NaN  \n",
       "75%         NaN  \n",
       "max         NaN  "
      ]
     },
     "execution_count": 88,
     "metadata": {},
     "output_type": "execute_result"
    }
   ],
   "source": [
    "test.describe()"
   ]
  },
  {
   "cell_type": "code",
   "execution_count": 89,
   "metadata": {
    "execution": {
     "iopub.execute_input": "2021-04-08T02:17:57.216761Z",
     "iopub.status.busy": "2021-04-08T02:17:57.215991Z",
     "iopub.status.idle": "2021-04-08T02:17:57.223469Z",
     "shell.execute_reply": "2021-04-08T02:17:57.224020Z"
    },
    "papermill": {
     "duration": 0.063987,
     "end_time": "2021-04-08T02:17:57.224236",
     "exception": false,
     "start_time": "2021-04-08T02:17:57.160249",
     "status": "completed"
    },
    "tags": []
   },
   "outputs": [],
   "source": [
    "df_num = train[['Age','SibSp','Parch','Fare']] #Numerical\n",
    "df_cat = train[['Survived','Pclass','Sex','Ticket','Cabin','Embarked']] #Categorical"
   ]
  },
  {
   "cell_type": "code",
   "execution_count": 90,
   "metadata": {
    "execution": {
     "iopub.execute_input": "2021-04-08T02:17:57.318963Z",
     "iopub.status.busy": "2021-04-08T02:17:57.317924Z",
     "iopub.status.idle": "2021-04-08T02:17:58.063608Z",
     "shell.execute_reply": "2021-04-08T02:17:58.062769Z"
    },
    "papermill": {
     "duration": 0.79348,
     "end_time": "2021-04-08T02:17:58.063750",
     "exception": false,
     "start_time": "2021-04-08T02:17:57.270270",
     "status": "completed"
    },
    "tags": []
   },
   "outputs": [
    {
     "data": {
      "image/png": "[encoded data removed]",
      "text/plain": [
       "<Figure size 432x288 with 1 Axes>"
      ]
     },
     "metadata": {
      "needs_background": "light"
     },
     "output_type": "display_data"
    },
    {
     "data": {
      "image/png": "[encoded data removed]",
      "text/plain": [
       "<Figure size 432x288 with 1 Axes>"
      ]
     },
     "metadata": {
      "needs_background": "light"
     },
     "output_type": "display_data"
    },
    {
     "data": {
      "image/png": "[encoded data removed]",
      "text/plain": [
       "<Figure size 432x288 with 1 Axes>"
      ]
     },
     "metadata": {
      "needs_background": "light"
     },
     "output_type": "display_data"
    },
    {
     "data": {
      "image/png": "[encoded data removed]",
      "text/plain": [
       "<Figure size 432x288 with 1 Axes>"
      ]
     },
     "metadata": {
      "needs_background": "light"
     },
     "output_type": "display_data"
    }
   ],
   "source": [
    "#Numerical feature-k hisztogramjai \n",
    "for i in df_num.columns:\n",
    "    plt.hist(df_num[i])\n",
    "    plt.title(i)\n",
    "    plt.show()"
   ]
  },
  {
   "cell_type": "code",
   "execution_count": 91,
   "metadata": {
    "execution": {
     "iopub.execute_input": "2021-04-08T02:17:58.363187Z",
     "iopub.status.busy": "2021-04-08T02:17:58.361005Z",
     "iopub.status.idle": "2021-04-08T02:17:58.608344Z",
     "shell.execute_reply": "2021-04-08T02:17:58.607680Z"
    },
    "papermill": {
     "duration": 0.306386,
     "end_time": "2021-04-08T02:17:58.608484",
     "exception": false,
     "start_time": "2021-04-08T02:17:58.302098",
     "status": "completed"
    },
    "tags": []
   },
   "outputs": [
    {
     "name": "stdout",
     "output_type": "stream",
     "text": [
      "            Age     SibSp     Parch      Fare\n",
      "Age    1.000000 -0.297896 -0.196080  0.142341\n",
      "SibSp -0.297896  1.000000  0.434930  0.165351\n",
      "Parch -0.196080  0.434930  1.000000  0.209408\n",
      "Fare   0.142341  0.165351  0.209408  1.000000\n"
     ]
    },
    {
     "data": {
      "text/plain": [
       "<AxesSubplot:>"
      ]
     },
     "execution_count": 91,
     "metadata": {},
     "output_type": "execute_result"
    },
    {
     "data": {
      "image/png": "[encoded data removed]",
      "text/plain": [
       "<Figure size 432x288 with 2 Axes>"
      ]
     },
     "metadata": {
      "needs_background": "light"
     },
     "output_type": "display_data"
    }
   ],
   "source": [
    "print(df_num.corr())\n",
    "sns.heatmap(df_num.corr(),cmap=\"Greens\") #Korrelációs mátrix"
   ]
  },
  {
   "cell_type": "code",
   "execution_count": 92,
   "metadata": {
    "execution": {
     "iopub.execute_input": "2021-04-08T02:17:58.735610Z",
     "iopub.status.busy": "2021-04-08T02:17:58.734729Z",
     "iopub.status.idle": "2021-04-08T02:17:58.740895Z",
     "shell.execute_reply": "2021-04-08T02:17:58.740303Z"
    },
    "papermill": {
     "duration": 0.083636,
     "end_time": "2021-04-08T02:17:58.741016",
     "exception": false,
     "start_time": "2021-04-08T02:17:58.657380",
     "status": "completed"
    },
    "tags": []
   },
   "outputs": [
    {
     "data": {
      "text/html": [
       "<div>\n",
       "<style scoped>\n",
       "    .dataframe tbody tr th:only-of-type {\n",
       "        vertical-align: middle;\n",
       "    }\n",
       "\n",
       "    .dataframe tbody tr th {\n",
       "        vertical-align: top;\n",
       "    }\n",
       "\n",
       "    .dataframe thead th {\n",
       "        text-align: right;\n",
       "    }\n",
       "</style>\n",
       "<table border=\"1\" class=\"dataframe\">\n",
       "  <thead>\n",
       "    <tr style=\"text-align: right;\">\n",
       "      <th></th>\n",
       "      <th>Age</th>\n",
       "      <th>Fare</th>\n",
       "      <th>Parch</th>\n",
       "      <th>SibSp</th>\n",
       "    </tr>\n",
       "    <tr>\n",
       "      <th>Survived</th>\n",
       "      <th></th>\n",
       "      <th></th>\n",
       "      <th></th>\n",
       "      <th></th>\n",
       "    </tr>\n",
       "  </thead>\n",
       "  <tbody>\n",
       "    <tr>\n",
       "      <th>0</th>\n",
       "      <td>30.030612</td>\n",
       "      <td>19.702488</td>\n",
       "      <td>0.296104</td>\n",
       "      <td>0.535065</td>\n",
       "    </tr>\n",
       "    <tr>\n",
       "      <th>1</th>\n",
       "      <td>29.112100</td>\n",
       "      <td>47.954760</td>\n",
       "      <td>0.447699</td>\n",
       "      <td>0.493724</td>\n",
       "    </tr>\n",
       "  </tbody>\n",
       "</table>\n",
       "</div>"
      ],
      "text/plain": [
       "                Age       Fare     Parch     SibSp\n",
       "Survived                                          \n",
       "0         30.030612  19.702488  0.296104  0.535065\n",
       "1         29.112100  47.954760  0.447699  0.493724"
      ]
     },
     "execution_count": 92,
     "metadata": {},
     "output_type": "execute_result"
    }
   ],
   "source": [
    "# Túlélési arányok megoszlása - Age, SibSp, Parch és Fare szerint \n",
    "pd.pivot_table(train, index = 'Survived', values = ['Age','SibSp','Parch','Fare'])"
   ]
  },
  {
   "cell_type": "code",
   "execution_count": 93,
   "metadata": {
    "execution": {
     "iopub.execute_input": "2021-04-08T02:17:58.847880Z",
     "iopub.status.busy": "2021-04-08T02:17:58.846959Z",
     "iopub.status.idle": "2021-04-08T02:18:09.032990Z",
     "shell.execute_reply": "2021-04-08T02:18:09.033502Z"
    },
    "papermill": {
     "duration": 10.243599,
     "end_time": "2021-04-08T02:18:09.033668",
     "exception": false,
     "start_time": "2021-04-08T02:17:58.790069",
     "status": "completed"
    },
    "tags": []
   },
   "outputs": [
    {
     "data": {
      "image/png": "[encoded data removed]",
      "text/plain": [
       "<Figure size 432x288 with 1 Axes>"
      ]
     },
     "metadata": {
      "needs_background": "light"
     },
     "output_type": "display_data"
    },
    {
     "data": {
      "image/png": "[encoded data removed]",
      "text/plain": [
       "<Figure size 432x288 with 1 Axes>"
      ]
     },
     "metadata": {
      "needs_background": "light"
     },
     "output_type": "display_data"
    },
    {
     "data": {
      "image/png": "[encoded data removed]",
      "text/plain": [
       "<Figure size 432x288 with 1 Axes>"
      ]
     },
     "metadata": {
      "needs_background": "light"
     },
     "output_type": "display_data"
    },
    {
     "data": {
      "image/png": "[encoded data removed]",
      "text/plain": [
       "<Figure size 432x288 with 1 Axes>"
      ]
     },
     "metadata": {
      "needs_background": "light"
     },
     "output_type": "display_data"
    },
    {
     "data": {
      "image/png": "[encoded data removed]",
      "text/plain": [
       "<Figure size 432x288 with 1 Axes>"
      ]
     },
     "metadata": {
      "needs_background": "light"
     },
     "output_type": "display_data"
    },
    {
     "data": {
      "image/png": "[encoded data removed]",
      "text/plain": [
       "<Figure size 432x288 with 1 Axes>"
      ]
     },
     "metadata": {
      "needs_background": "light"
     },
     "output_type": "display_data"
    }
   ],
   "source": [
    "\n",
    "for i in df_cat.columns:\n",
    "    sns_bp = sns.barplot(x = df_cat[i].value_counts().index,y = df_cat[i].value_counts())\n",
    "    sns_bp.set_title(i)\n",
    "    \n",
    "    if i == 'Cabin' or i == 'Ticket':\n",
    "        plt.setp(sns_bp.get_xticklabels(),rotation = 90)\n",
    "    \n",
    "    plt.show()\\\n",
    "    "
   ]
  },
  {
   "cell_type": "markdown",
   "metadata": {
    "papermill": {
     "duration": 0.053573,
     "end_time": "2021-04-08T02:18:09.141535",
     "exception": false,
     "start_time": "2021-04-08T02:18:09.087962",
     "status": "completed"
    },
    "tags": []
   },
   "source": [
    "Cabin and ticket graphs are very messy. This is an area where we may want to do some feature engineering! "
   ]
  },
  {
   "cell_type": "code",
   "execution_count": 94,
   "metadata": {
    "execution": {
     "iopub.execute_input": "2021-04-08T02:18:09.252051Z",
     "iopub.status.busy": "2021-04-08T02:18:09.251347Z",
     "iopub.status.idle": "2021-04-08T02:18:09.304652Z",
     "shell.execute_reply": "2021-04-08T02:18:09.303892Z"
    },
    "papermill": {
     "duration": 0.109849,
     "end_time": "2021-04-08T02:18:09.304793",
     "exception": false,
     "start_time": "2021-04-08T02:18:09.194944",
     "status": "completed"
    },
    "tags": []
   },
   "outputs": [
    {
     "name": "stdout",
     "output_type": "stream",
     "text": [
      "Pclass     1   2    3\n",
      "Survived             \n",
      "0         46  73  266\n",
      "1         96  62   81\n",
      "\n",
      "Sex       female  male\n",
      "Survived              \n",
      "0             60   325\n",
      "1            168    71\n",
      "\n",
      "Embarked   C   Q    S\n",
      "Survived             \n",
      "0         52  33  300\n",
      "1         69  22  147\n"
     ]
    }
   ],
   "source": [
    "# Comparing survival and each of these categorical variables \n",
    "print(pd.pivot_table(train, index = 'Survived', columns = 'Pclass', values = 'Ticket' ,aggfunc ='count'))\n",
    "print()\n",
    "print(pd.pivot_table(train, index = 'Survived', columns = 'Sex', values = 'Ticket' ,aggfunc ='count'))\n",
    "print()\n",
    "print(pd.pivot_table(train, index = 'Survived', columns = 'Embarked', values = 'Ticket' ,aggfunc ='count'))"
   ]
  },
  {
   "cell_type": "markdown",
   "metadata": {
    "papermill": {
     "duration": 0.053703,
     "end_time": "2021-04-08T02:18:09.412768",
     "exception": false,
     "start_time": "2021-04-08T02:18:09.359065",
     "status": "completed"
    },
    "tags": []
   },
   "source": [
    "## Feature Engineering "
   ]
  },
  {
   "cell_type": "code",
   "execution_count": 95,
   "metadata": {
    "execution": {
     "iopub.execute_input": "2021-04-08T02:18:09.861466Z",
     "iopub.status.busy": "2021-04-08T02:18:09.860498Z",
     "iopub.status.idle": "2021-04-08T02:18:09.864614Z",
     "shell.execute_reply": "2021-04-08T02:18:09.863719Z"
    },
    "papermill": {
     "duration": 0.083654,
     "end_time": "2021-04-08T02:18:09.864790",
     "exception": false,
     "start_time": "2021-04-08T02:18:09.781136",
     "status": "completed"
    },
    "tags": []
   },
   "outputs": [],
   "source": [
    "train['cabin_adv'] = train.Cabin.apply(lambda x: str(x)[0])"
   ]
  },
  {
   "cell_type": "code",
   "execution_count": 96,
   "metadata": {
    "execution": {
     "iopub.execute_input": "2021-04-08T02:18:10.005154Z",
     "iopub.status.busy": "2021-04-08T02:18:10.002483Z",
     "iopub.status.idle": "2021-04-08T02:18:10.025734Z",
     "shell.execute_reply": "2021-04-08T02:18:10.024999Z"
    },
    "papermill": {
     "duration": 0.097835,
     "end_time": "2021-04-08T02:18:10.025860",
     "exception": false,
     "start_time": "2021-04-08T02:18:09.928025",
     "status": "completed"
    },
    "tags": []
   },
   "outputs": [
    {
     "name": "stdout",
     "output_type": "stream",
     "text": [
      "n    496\n",
      "C     33\n",
      "B     26\n",
      "D     23\n",
      "E     23\n",
      "A     12\n",
      "F      7\n",
      "G      4\n",
      "Name: cabin_adv, dtype: int64\n"
     ]
    },
    {
     "data": {
      "text/html": [
       "<div>\n",
       "<style scoped>\n",
       "    .dataframe tbody tr th:only-of-type {\n",
       "        vertical-align: middle;\n",
       "    }\n",
       "\n",
       "    .dataframe tbody tr th {\n",
       "        vertical-align: top;\n",
       "    }\n",
       "\n",
       "    .dataframe thead th {\n",
       "        text-align: right;\n",
       "    }\n",
       "</style>\n",
       "<table border=\"1\" class=\"dataframe\">\n",
       "  <thead>\n",
       "    <tr style=\"text-align: right;\">\n",
       "      <th>cabin_adv</th>\n",
       "      <th>A</th>\n",
       "      <th>B</th>\n",
       "      <th>C</th>\n",
       "      <th>D</th>\n",
       "      <th>E</th>\n",
       "      <th>F</th>\n",
       "      <th>G</th>\n",
       "      <th>n</th>\n",
       "    </tr>\n",
       "    <tr>\n",
       "      <th>Survived</th>\n",
       "      <th></th>\n",
       "      <th></th>\n",
       "      <th></th>\n",
       "      <th></th>\n",
       "      <th></th>\n",
       "      <th></th>\n",
       "      <th></th>\n",
       "      <th></th>\n",
       "    </tr>\n",
       "  </thead>\n",
       "  <tbody>\n",
       "    <tr>\n",
       "      <th>0</th>\n",
       "      <td>6</td>\n",
       "      <td>7</td>\n",
       "      <td>9</td>\n",
       "      <td>4</td>\n",
       "      <td>5</td>\n",
       "      <td>4</td>\n",
       "      <td>2</td>\n",
       "      <td>348</td>\n",
       "    </tr>\n",
       "    <tr>\n",
       "      <th>1</th>\n",
       "      <td>6</td>\n",
       "      <td>19</td>\n",
       "      <td>24</td>\n",
       "      <td>19</td>\n",
       "      <td>18</td>\n",
       "      <td>3</td>\n",
       "      <td>2</td>\n",
       "      <td>148</td>\n",
       "    </tr>\n",
       "  </tbody>\n",
       "</table>\n",
       "</div>"
      ],
      "text/plain": [
       "cabin_adv  A   B   C   D   E  F  G    n\n",
       "Survived                               \n",
       "0          6   7   9   4   5  4  2  348\n",
       "1          6  19  24  19  18  3  2  148"
      ]
     },
     "execution_count": 96,
     "metadata": {},
     "output_type": "execute_result"
    }
   ],
   "source": [
    "#Comparing surivial rate by cabin\n",
    "print(train.cabin_adv.value_counts())\n",
    "pd.pivot_table(train,index='Survived',columns='cabin_adv', values = 'Name', aggfunc='count')"
   ]
  },
  {
   "cell_type": "code",
   "execution_count": 97,
   "metadata": {
    "execution": {
     "iopub.execute_input": "2021-04-08T02:18:10.859814Z",
     "iopub.status.busy": "2021-04-08T02:18:10.859122Z",
     "iopub.status.idle": "2021-04-08T02:18:10.862694Z",
     "shell.execute_reply": "2021-04-08T02:18:10.862002Z"
    },
    "papermill": {
     "duration": 0.071769,
     "end_time": "2021-04-08T02:18:10.862816",
     "exception": false,
     "start_time": "2021-04-08T02:18:10.791047",
     "status": "completed"
    },
    "tags": []
   },
   "outputs": [],
   "source": [
    "train['name_title'] = train.Name.apply(lambda x: x.split(',')[1].split('.')[0].strip())\n",
    "#mr., ms., master. etc"
   ]
  },
  {
   "cell_type": "code",
   "execution_count": 98,
   "metadata": {
    "execution": {
     "iopub.execute_input": "2021-04-08T02:18:10.985423Z",
     "iopub.status.busy": "2021-04-08T02:18:10.984702Z",
     "iopub.status.idle": "2021-04-08T02:18:10.993061Z",
     "shell.execute_reply": "2021-04-08T02:18:10.993652Z"
    },
    "papermill": {
     "duration": 0.071288,
     "end_time": "2021-04-08T02:18:10.993807",
     "exception": false,
     "start_time": "2021-04-08T02:18:10.922519",
     "status": "completed"
    },
    "tags": []
   },
   "outputs": [
    {
     "data": {
      "text/plain": [
       "Mr              357\n",
       "Miss            128\n",
       "Mrs              94\n",
       "Master           24\n",
       "Rev               5\n",
       "Dr                5\n",
       "Major             2\n",
       "Mlle              2\n",
       "Don               1\n",
       "Ms                1\n",
       "Lady              1\n",
       "Col               1\n",
       "Capt              1\n",
       "the Countess      1\n",
       "Jonkheer          1\n",
       "Name: name_title, dtype: int64"
      ]
     },
     "execution_count": 98,
     "metadata": {},
     "output_type": "execute_result"
    }
   ],
   "source": [
    "train['name_title'].value_counts()"
   ]
  },
  {
   "cell_type": "markdown",
   "metadata": {
    "papermill": {
     "duration": 0.059406,
     "end_time": "2021-04-08T02:18:11.114621",
     "exception": false,
     "start_time": "2021-04-08T02:18:11.055215",
     "status": "completed"
    },
    "tags": []
   },
   "source": [
    "## Preprocesszálás"
   ]
  },
  {
   "cell_type": "code",
   "execution_count": 99,
   "metadata": {
    "execution": {
     "iopub.execute_input": "2021-04-08T02:18:11.252332Z",
     "iopub.status.busy": "2021-04-08T02:18:11.251194Z",
     "iopub.status.idle": "2021-04-08T02:18:11.527173Z",
     "shell.execute_reply": "2021-04-08T02:18:11.526485Z"
    },
    "papermill": {
     "duration": 0.353508,
     "end_time": "2021-04-08T02:18:11.527301",
     "exception": false,
     "start_time": "2021-04-08T02:18:11.173793",
     "status": "completed"
    },
    "tags": []
   },
   "outputs": [
    {
     "data": {
      "text/plain": [
       "(623,)"
      ]
     },
     "execution_count": 99,
     "metadata": {},
     "output_type": "execute_result"
    },
    {
     "data": {
      "image/png": "[encoded data removed]",
      "text/plain": [
       "<Figure size 432x288 with 1 Axes>"
      ]
     },
     "metadata": {
      "needs_background": "light"
     },
     "output_type": "display_data"
    }
   ],
   "source": [
    "# Preprocesszáljuk mind a tanító, mind pedig a teszt adatokat is. Ennek a legegyszerűbb módja, ha egyszerre végezzük el\n",
    "# a transzformációkat a kód elején létrehozott all_data-n!\n",
    "all_data['cabin_adv'] = all_data.Cabin.apply(lambda x: str(x)[0])\n",
    "all_data['name_title'] = all_data.Name.apply(lambda x: x.split(',')[1].split('.')[0].strip())\n",
    "\n",
    "# Age\n",
    "# Null értékek feltöltése a mediánnal\n",
    "#all_data.Age = all_data.Age.fillna(training.Age.mean())\n",
    "all_data.Age = all_data.Age.fillna(train.Age.median())\n",
    "\n",
    "#Töröljük azt a sort, ahol null értékünk van az Embarked oszlopban (1 a tanító halmazban és 1 a teszt halmazban)\n",
    "all_data.dropna(subset=['Embarked'],inplace = True)\n",
    "\n",
    "# log norm of fare\n",
    "all_data['norm_fare'] = np.log(all_data.Fare+1)\n",
    "all_data['norm_fare'].hist()\n",
    "\n",
    "# converted fare to category for pd.get_dummies()\n",
    "all_data.Pclass = all_data.Pclass.astype(str)\n",
    "\n",
    "#created dummy variables from categories (also can use OneHotEncoder)\n",
    "all_dummies = pd.get_dummies(all_data[['Pclass','Sex','Age','SibSp','Parch','norm_fare','Embarked','cabin_adv','name_title','train_test']])\n",
    "\n",
    "#Split to train test again\n",
    "X_train = all_dummies[all_dummies.train_test == 1].drop(['train_test'], axis =1)\n",
    "X_test = all_dummies[all_dummies.train_test == 0].drop(['train_test'], axis =1)\n",
    "\n",
    "\n",
    "y_train = all_data[all_data.train_test==1].Survived\n",
    "y_train.shape"
   ]
  },
  {
   "cell_type": "code",
   "execution_count": 100,
   "metadata": {
    "execution": {
     "iopub.execute_input": "2021-04-08T02:18:11.657587Z",
     "iopub.status.busy": "2021-04-08T02:18:11.656666Z",
     "iopub.status.idle": "2021-04-08T02:18:11.744532Z",
     "shell.execute_reply": "2021-04-08T02:18:11.743757Z"
    },
    "papermill": {
     "duration": 0.157076,
     "end_time": "2021-04-08T02:18:11.744680",
     "exception": false,
     "start_time": "2021-04-08T02:18:11.587604",
     "status": "completed"
    },
    "tags": []
   },
   "outputs": [],
   "source": [
    "# Scale data \n",
    "from sklearn.preprocessing import StandardScaler\n",
    "scale = StandardScaler()\n",
    "all_dummies_scaled = all_dummies.copy()\n",
    "all_dummies_scaled[['Age','SibSp','Parch','norm_fare']]= scale.fit_transform(all_dummies_scaled[['Age','SibSp','Parch','norm_fare']])\n",
    "all_dummies_scaled\n",
    "\n",
    "X_train_scaled = all_dummies_scaled[all_dummies_scaled.train_test == 1].drop(['train_test'], axis =1)\n",
    "X_test_scaled = all_dummies_scaled[all_dummies_scaled.train_test == 0].drop(['train_test'], axis =1)\n",
    "\n",
    "y_train = all_data[all_data.train_test==1].Survived\n"
   ]
  },
  {
   "cell_type": "markdown",
   "metadata": {
    "papermill": {
     "duration": 0.06091,
     "end_time": "2021-04-08T02:18:11.866824",
     "exception": false,
     "start_time": "2021-04-08T02:18:11.805914",
     "status": "completed"
    },
    "tags": []
   },
   "source": [
    "## Tanítás - Baseline modellek\n",
    "\n",
    "- K Nearest Neighbor (82.0%)\n",
    "- **Support Vector Classifier (82.3%)**\n",
    "- Soft Voting Classifier (k-NN, SVM) (81.8%)"
   ]
  },
  {
   "cell_type": "code",
   "execution_count": 101,
   "metadata": {
    "execution": {
     "iopub.execute_input": "2021-04-08T02:18:11.996278Z",
     "iopub.status.busy": "2021-04-08T02:18:11.995421Z",
     "iopub.status.idle": "2021-04-08T02:18:12.610672Z",
     "shell.execute_reply": "2021-04-08T02:18:12.609977Z"
    },
    "papermill": {
     "duration": 0.68261,
     "end_time": "2021-04-08T02:18:12.610823",
     "exception": false,
     "start_time": "2021-04-08T02:18:11.928213",
     "status": "completed"
    },
    "tags": []
   },
   "outputs": [],
   "source": [
    "from sklearn.model_selection import cross_val_score\n",
    "from sklearn.neighbors import KNeighborsClassifier\n",
    "from sklearn.svm import SVC"
   ]
  },
  {
   "cell_type": "code",
   "execution_count": 102,
   "metadata": {
    "execution": {
     "iopub.execute_input": "2021-04-08T02:18:14.430925Z",
     "iopub.status.busy": "2021-04-08T02:18:14.430190Z",
     "iopub.status.idle": "2021-04-08T02:18:14.538954Z",
     "shell.execute_reply": "2021-04-08T02:18:14.538352Z"
    },
    "papermill": {
     "duration": 0.181607,
     "end_time": "2021-04-08T02:18:14.539080",
     "exception": false,
     "start_time": "2021-04-08T02:18:14.357473",
     "status": "completed"
    },
    "tags": []
   },
   "outputs": [
    {
     "name": "stdout",
     "output_type": "stream",
     "text": [
      "[0.808      0.824      0.816      0.74193548 0.87903226]\n",
      "0.8137935483870967\n"
     ]
    }
   ],
   "source": [
    "knn = KNeighborsClassifier()\n",
    "cv = cross_val_score(knn,X_train,y_train,cv=5)\n",
    "print(cv)\n",
    "print(cv.mean())"
   ]
  },
  {
   "cell_type": "code",
   "execution_count": 103,
   "metadata": {
    "execution": {
     "iopub.execute_input": "2021-04-08T02:18:14.680996Z",
     "iopub.status.busy": "2021-04-08T02:18:14.679821Z",
     "iopub.status.idle": "2021-04-08T02:18:14.798546Z",
     "shell.execute_reply": "2021-04-08T02:18:14.797823Z"
    },
    "papermill": {
     "duration": 0.193664,
     "end_time": "2021-04-08T02:18:14.798673",
     "exception": false,
     "start_time": "2021-04-08T02:18:14.605009",
     "status": "completed"
    },
    "tags": []
   },
   "outputs": [
    {
     "name": "stdout",
     "output_type": "stream",
     "text": [
      "[0.784      0.8        0.84       0.81451613 0.86290323]\n",
      "0.8202838709677419\n"
     ]
    }
   ],
   "source": [
    "knn = KNeighborsClassifier()\n",
    "cv = cross_val_score(knn,X_train_scaled,y_train,cv=5)\n",
    "print(cv)\n",
    "print(cv.mean())"
   ]
  },
  {
   "cell_type": "code",
   "execution_count": 104,
   "metadata": {
    "execution": {
     "iopub.execute_input": "2021-04-08T02:18:17.854891Z",
     "iopub.status.busy": "2021-04-08T02:18:17.853644Z",
     "iopub.status.idle": "2021-04-08T02:18:18.652888Z",
     "shell.execute_reply": "2021-04-08T02:18:18.652295Z"
    },
    "papermill": {
     "duration": 0.870702,
     "end_time": "2021-04-08T02:18:18.653030",
     "exception": false,
     "start_time": "2021-04-08T02:18:17.782328",
     "status": "completed"
    },
    "tags": []
   },
   "outputs": [
    {
     "name": "stdout",
     "output_type": "stream",
     "text": [
      "[0.824      0.832      0.84       0.75       0.87096774]\n",
      "0.8233935483870967\n"
     ]
    }
   ],
   "source": [
    "svc = SVC(probability = True)\n",
    "cv = cross_val_score(svc,X_train_scaled,y_train,cv=5)\n",
    "print(cv)\n",
    "print(cv.mean())"
   ]
  },
  {
   "cell_type": "code",
   "execution_count": 105,
   "metadata": {
    "execution": {
     "iopub.execute_input": "2021-04-08T02:18:20.390999Z",
     "iopub.status.busy": "2021-04-08T02:18:20.390276Z",
     "iopub.status.idle": "2021-04-08T02:18:20.392765Z",
     "shell.execute_reply": "2021-04-08T02:18:20.393275Z"
    },
    "papermill": {
     "duration": 0.105104,
     "end_time": "2021-04-08T02:18:20.393438",
     "exception": false,
     "start_time": "2021-04-08T02:18:20.288334",
     "status": "completed"
    },
    "tags": []
   },
   "outputs": [],
   "source": [
    "from sklearn.ensemble import VotingClassifier\n",
    "voting_clf = VotingClassifier(estimators = [('knn',knn),('svc',svc)], voting = 'soft') "
   ]
  },
  {
   "cell_type": "code",
   "execution_count": 106,
   "metadata": {
    "execution": {
     "iopub.execute_input": "2021-04-08T02:18:20.529700Z",
     "iopub.status.busy": "2021-04-08T02:18:20.529004Z",
     "iopub.status.idle": "2021-04-08T02:18:23.732737Z",
     "shell.execute_reply": "2021-04-08T02:18:23.733465Z"
    },
    "papermill": {
     "duration": 3.274068,
     "end_time": "2021-04-08T02:18:23.733655",
     "exception": false,
     "start_time": "2021-04-08T02:18:20.459587",
     "status": "completed"
    },
    "tags": []
   },
   "outputs": [
    {
     "name": "stdout",
     "output_type": "stream",
     "text": [
      "[0.792      0.832      0.832      0.76612903 0.87096774]\n",
      "0.8186193548387097\n"
     ]
    }
   ],
   "source": [
    "cv = cross_val_score(voting_clf,X_train_scaled,y_train,cv=5)\n",
    "print(cv)\n",
    "print(cv.mean())"
   ]
  },
  {
   "cell_type": "markdown",
   "metadata": {
    "papermill": {
     "duration": 0.086488,
     "end_time": "2021-04-08T02:18:24.829470",
     "exception": false,
     "start_time": "2021-04-08T02:18:24.742982",
     "status": "completed"
    },
    "tags": []
   },
   "source": [
    "## Modell optimalizálás\n",
    "\n",
    "|Model|Baseline|Tuned Performance|\n",
    "|-----|--------|-----------------|\n",
    "|K Nearest Neighbor| 82.0%|83.1%|\n",
    "|Support Vector Classifier| 82.3%| 82.3%|\n"
   ]
  },
  {
   "cell_type": "code",
   "execution_count": 107,
   "metadata": {
    "execution": {
     "iopub.execute_input": "2021-04-08T02:18:24.971911Z",
     "iopub.status.busy": "2021-04-08T02:18:24.971235Z",
     "iopub.status.idle": "2021-04-08T02:18:24.973389Z",
     "shell.execute_reply": "2021-04-08T02:18:24.973876Z"
    },
    "papermill": {
     "duration": 0.075419,
     "end_time": "2021-04-08T02:18:24.974045",
     "exception": false,
     "start_time": "2021-04-08T02:18:24.898626",
     "status": "completed"
    },
    "tags": []
   },
   "outputs": [],
   "source": [
    "from sklearn.model_selection import GridSearchCV "
   ]
  },
  {
   "cell_type": "code",
   "execution_count": 108,
   "metadata": {
    "execution": {
     "iopub.execute_input": "2021-04-08T02:18:25.114510Z",
     "iopub.status.busy": "2021-04-08T02:18:25.113778Z",
     "iopub.status.idle": "2021-04-08T02:18:25.119701Z",
     "shell.execute_reply": "2021-04-08T02:18:25.119133Z"
    },
    "papermill": {
     "duration": 0.076897,
     "end_time": "2021-04-08T02:18:25.119829",
     "exception": false,
     "start_time": "2021-04-08T02:18:25.042932",
     "status": "completed"
    },
    "tags": []
   },
   "outputs": [],
   "source": [
    "def clf_performance(classifier, model_name):\n",
    "    print(model_name)\n",
    "    print('Best Score: ' + str(classifier.best_score_))\n",
    "    print('Best Parameters: ' + str(classifier.best_params_))"
   ]
  },
  {
   "cell_type": "code",
   "execution_count": 109,
   "metadata": {
    "execution": {
     "iopub.execute_input": "2021-04-08T02:18:29.055559Z",
     "iopub.status.busy": "2021-04-08T02:18:29.054509Z",
     "iopub.status.idle": "2021-04-08T02:18:31.146022Z",
     "shell.execute_reply": "2021-04-08T02:18:31.145416Z"
    },
    "papermill": {
     "duration": 2.174362,
     "end_time": "2021-04-08T02:18:31.146172",
     "exception": false,
     "start_time": "2021-04-08T02:18:28.971810",
     "status": "completed"
    },
    "tags": []
   },
   "outputs": [
    {
     "name": "stdout",
     "output_type": "stream",
     "text": [
      "Fitting 5 folds for each of 48 candidates, totalling 240 fits\n",
      "KNN\n",
      "Best Score: 0.8314838709677419\n",
      "Best Parameters: {'algorithm': 'auto', 'n_neighbors': 9, 'p': 1, 'weights': 'uniform'}\n"
     ]
    }
   ],
   "source": [
    "knn = KNeighborsClassifier()\n",
    "param_grid = {'n_neighbors' : [3,5,7,9],\n",
    "              'weights' : ['uniform', 'distance'],\n",
    "              'algorithm' : ['auto', 'ball_tree','kd_tree'],\n",
    "              'p' : [1,2]}\n",
    "clf_knn = GridSearchCV(knn, param_grid = param_grid, cv = 5, verbose = True, n_jobs = -1)\n",
    "best_clf_knn = clf_knn.fit(X_train_scaled,y_train)\n",
    "clf_performance(best_clf_knn,'KNN')"
   ]
  },
  {
   "cell_type": "code",
   "execution_count": 110,
   "metadata": {
    "execution": {
     "iopub.execute_input": "2021-04-08T02:18:31.300533Z",
     "iopub.status.busy": "2021-04-08T02:18:31.299377Z",
     "iopub.status.idle": "2021-04-08T02:21:54.517481Z",
     "shell.execute_reply": "2021-04-08T02:21:54.516866Z"
    },
    "papermill": {
     "duration": 203.30052,
     "end_time": "2021-04-08T02:21:54.517609",
     "exception": false,
     "start_time": "2021-04-08T02:18:31.217089",
     "status": "completed"
    },
    "tags": []
   },
   "outputs": [
    {
     "name": "stdout",
     "output_type": "stream",
     "text": [
      "Fitting 5 folds for each of 55 candidates, totalling 275 fits\n",
      "SVC\n",
      "Best Score: 0.8233806451612903\n",
      "Best Parameters: {'C': 1, 'gamma': 0.1, 'kernel': 'rbf'}\n"
     ]
    }
   ],
   "source": [
    "svc = SVC(probability = True)\n",
    "param_grid = tuned_parameters = [{'kernel': ['rbf'], 'gamma': [.1,.5,1,2,5,10],\n",
    "                                  'C': [.1, 1, 10, 100, 1000]},\n",
    "                                 {'kernel': ['linear'], 'C': [.1, 1, 10, 100, 1000]},\n",
    "                                 {'kernel': ['poly'], 'degree' : [2,3,4,5], 'C': [.1, 1, 10, 100, 1000]}]\n",
    "clf_svc = GridSearchCV(svc, param_grid = param_grid, cv = 5, verbose = True, n_jobs = -1)\n",
    "best_clf_svc = clf_svc.fit(X_train_scaled,y_train)\n",
    "clf_performance(best_clf_svc,'SVC')"
   ]
  },
  {
   "cell_type": "markdown",
   "metadata": {
    "papermill": {
     "duration": 0.106813,
     "end_time": "2021-04-08T02:41:03.285744",
     "exception": false,
     "start_time": "2021-04-08T02:41:03.178931",
     "status": "completed"
    },
    "tags": []
   },
   "source": [
    "## Ensemble Modell \n",
    "1) Voting Classifier - hard voting (k-NN, SVM) (81.3%)\n",
    "\n",
    "2) **Voting Classifier - soft voting - súlyok: [3,1] (k-NN, SVM) (82.9%)**\n",
    "\n",
    "3) Voting Classifier - soft voting (k-NN, SVM) (82.0%)\n",
    "\n",
    "Ebben az esetben minimális 0,1 %-os különbség lehetséges különböző futtatások között!"
   ]
  },
  {
   "cell_type": "code",
   "execution_count": 111,
   "metadata": {
    "execution": {
     "iopub.execute_input": "2021-04-08T02:41:03.480830Z",
     "iopub.status.busy": "2021-04-08T02:41:03.480067Z",
     "iopub.status.idle": "2021-04-08T02:42:15.284726Z",
     "shell.execute_reply": "2021-04-08T02:42:15.285543Z"
    },
    "papermill": {
     "duration": 71.911354,
     "end_time": "2021-04-08T02:42:15.285769",
     "exception": false,
     "start_time": "2021-04-08T02:41:03.374415",
     "status": "completed"
    },
    "tags": []
   },
   "outputs": [
    {
     "name": "stdout",
     "output_type": "stream",
     "text": [
      "voting_clf_hard : [0.808      0.824      0.8        0.76612903 0.87096774]\n",
      "voting_clf_hard mean : 0.8138193548387097\n",
      "voting_clf_soft : [0.816      0.816      0.84       0.76612903 0.87096774]\n",
      "voting_clf_soft mean : 0.8202193548387097\n"
     ]
    }
   ],
   "source": [
    "best_knn = best_clf_knn.best_estimator_\n",
    "best_svc = best_clf_svc.best_estimator_\n",
    "\n",
    "voting_clf_hard = VotingClassifier(estimators = [('knn',best_knn),('svc',best_svc)], voting = 'hard') \n",
    "voting_clf_soft = VotingClassifier(estimators = [('knn',best_knn),('svc',best_svc)], voting = 'soft') \n",
    "\n",
    "print('voting_clf_hard :',cross_val_score(voting_clf_hard,X_train,y_train,cv=5))\n",
    "print('voting_clf_hard mean :',cross_val_score(voting_clf_hard,X_train,y_train,cv=5).mean())\n",
    "\n",
    "print('voting_clf_soft :',cross_val_score(voting_clf_soft,X_train,y_train,cv=5))\n",
    "print('voting_clf_soft mean :',cross_val_score(voting_clf_soft,X_train,y_train,cv=5).mean())\n"
   ]
  },
  {
   "cell_type": "code",
   "execution_count": 112,
   "metadata": {
    "execution": {
     "iopub.execute_input": "2021-04-08T02:42:15.484275Z",
     "iopub.status.busy": "2021-04-08T02:42:15.482974Z",
     "iopub.status.idle": "2021-04-08T02:42:40.084905Z",
     "shell.execute_reply": "2021-04-08T02:42:40.084337Z"
    },
    "papermill": {
     "duration": 24.69752,
     "end_time": "2021-04-08T02:42:40.085045",
     "exception": false,
     "start_time": "2021-04-08T02:42:15.387525",
     "status": "completed"
    },
    "tags": []
   },
   "outputs": [
    {
     "name": "stdout",
     "output_type": "stream",
     "text": [
      "Fitting 5 folds for each of 5 candidates, totalling 25 fits\n",
      "VC Weights\n",
      "Best Score: 0.8298709677419355\n",
      "Best Parameters: {'weights': [3, 1]}\n"
     ]
    }
   ],
   "source": [
    "params = {'weights' : [[1,1],[2,1],[1,2],[3,1],[1,3]]}\n",
    "\n",
    "vote_weight = GridSearchCV(voting_clf_soft, param_grid = params, cv = 5, verbose = True, n_jobs = -1)\n",
    "best_clf_weight = vote_weight.fit(X_train_scaled,y_train)\n",
    "clf_performance(best_clf_weight,'VC Weights')\n",
    "voting_clf_sub = best_clf_weight.best_estimator_.predict(X_test_scaled)\n"
   ]
  },
  {
   "cell_type": "code",
   "execution_count": 113,
   "metadata": {
    "execution": {
     "iopub.execute_input": "2021-04-08T02:42:40.266278Z",
     "iopub.status.busy": "2021-04-08T02:42:40.265238Z",
     "iopub.status.idle": "2021-04-08T02:42:49.513167Z",
     "shell.execute_reply": "2021-04-08T02:42:49.512360Z"
    },
    "papermill": {
     "duration": 9.341398,
     "end_time": "2021-04-08T02:42:49.513337",
     "exception": false,
     "start_time": "2021-04-08T02:42:40.171939",
     "status": "completed"
    },
    "tags": []
   },
   "outputs": [
    {
     "data": {
      "text/plain": [
       "KNeighborsClassifier(n_neighbors=9, p=1)"
      ]
     },
     "execution_count": 113,
     "metadata": {},
     "output_type": "execute_result"
    }
   ],
   "source": [
    "#Tanítás \n",
    "best_knn.fit(X_train_scaled, y_train)"
   ]
  },
  {
   "cell_type": "markdown",
   "metadata": {},
   "source": [
    "## Eredmény"
   ]
  },
  {
   "cell_type": "code",
   "execution_count": 114,
   "metadata": {},
   "outputs": [],
   "source": [
    "test.drop(['train_test'],axis = 1)\n",
    "test.dropna(subset=['Embarked'],inplace = True)\n",
    "\n",
    "test['Survived'] = best_knn.predict(X_test_scaled) #Predikció - az optimalizált k-NN bizonyult a legjobb modellnek\n",
    "# természetesen további metrikák vizsgálatára is szükség lenne, mivel abban az esetben, ha csak az accuracy-t vizsgáljuk\n",
    "# tévútra térhetünk a legtöbb esetben\n",
    "\n",
    "test.to_csv('test_predictions.csv') #Eredmények elmentése"
   ]
  },
  {
   "cell_type": "code",
   "execution_count": 115,
   "metadata": {},
   "outputs": [
    {
     "data": {
      "text/html": [
       "<div>\n",
       "<style scoped>\n",
       "    .dataframe tbody tr th:only-of-type {\n",
       "        vertical-align: middle;\n",
       "    }\n",
       "\n",
       "    .dataframe tbody tr th {\n",
       "        vertical-align: top;\n",
       "    }\n",
       "\n",
       "    .dataframe thead th {\n",
       "        text-align: right;\n",
       "    }\n",
       "</style>\n",
       "<table border=\"1\" class=\"dataframe\">\n",
       "  <thead>\n",
       "    <tr style=\"text-align: right;\">\n",
       "      <th></th>\n",
       "      <th>Pclass</th>\n",
       "      <th>Name</th>\n",
       "      <th>Sex</th>\n",
       "      <th>Age</th>\n",
       "      <th>SibSp</th>\n",
       "      <th>Parch</th>\n",
       "      <th>Ticket</th>\n",
       "      <th>Fare</th>\n",
       "      <th>Cabin</th>\n",
       "      <th>Embarked</th>\n",
       "      <th>train_test</th>\n",
       "      <th>Survived</th>\n",
       "    </tr>\n",
       "    <tr>\n",
       "      <th>PassengerId</th>\n",
       "      <th></th>\n",
       "      <th></th>\n",
       "      <th></th>\n",
       "      <th></th>\n",
       "      <th></th>\n",
       "      <th></th>\n",
       "      <th></th>\n",
       "      <th></th>\n",
       "      <th></th>\n",
       "      <th></th>\n",
       "      <th></th>\n",
       "      <th></th>\n",
       "    </tr>\n",
       "  </thead>\n",
       "  <tbody>\n",
       "    <tr>\n",
       "      <th>4</th>\n",
       "      <td>1</td>\n",
       "      <td>Futrelle, Mrs. Jacques Heath (Lily May Peel)</td>\n",
       "      <td>female</td>\n",
       "      <td>35.0</td>\n",
       "      <td>1</td>\n",
       "      <td>0</td>\n",
       "      <td>113803</td>\n",
       "      <td>53.1000</td>\n",
       "      <td>C123</td>\n",
       "      <td>S</td>\n",
       "      <td>0</td>\n",
       "      <td>1.0</td>\n",
       "    </tr>\n",
       "    <tr>\n",
       "      <th>6</th>\n",
       "      <td>3</td>\n",
       "      <td>Moran, Mr. James</td>\n",
       "      <td>male</td>\n",
       "      <td>NaN</td>\n",
       "      <td>0</td>\n",
       "      <td>0</td>\n",
       "      <td>330877</td>\n",
       "      <td>8.4583</td>\n",
       "      <td>NaN</td>\n",
       "      <td>Q</td>\n",
       "      <td>0</td>\n",
       "      <td>0.0</td>\n",
       "    </tr>\n",
       "    <tr>\n",
       "      <th>7</th>\n",
       "      <td>1</td>\n",
       "      <td>McCarthy, Mr. Timothy J</td>\n",
       "      <td>male</td>\n",
       "      <td>54.0</td>\n",
       "      <td>0</td>\n",
       "      <td>0</td>\n",
       "      <td>17463</td>\n",
       "      <td>51.8625</td>\n",
       "      <td>E46</td>\n",
       "      <td>S</td>\n",
       "      <td>0</td>\n",
       "      <td>1.0</td>\n",
       "    </tr>\n",
       "    <tr>\n",
       "      <th>8</th>\n",
       "      <td>3</td>\n",
       "      <td>Palsson, Master. Gosta Leonard</td>\n",
       "      <td>male</td>\n",
       "      <td>2.0</td>\n",
       "      <td>3</td>\n",
       "      <td>1</td>\n",
       "      <td>349909</td>\n",
       "      <td>21.0750</td>\n",
       "      <td>NaN</td>\n",
       "      <td>S</td>\n",
       "      <td>0</td>\n",
       "      <td>0.0</td>\n",
       "    </tr>\n",
       "    <tr>\n",
       "      <th>9</th>\n",
       "      <td>3</td>\n",
       "      <td>Johnson, Mrs. Oscar W (Elisabeth Vilhelmina Berg)</td>\n",
       "      <td>female</td>\n",
       "      <td>27.0</td>\n",
       "      <td>0</td>\n",
       "      <td>2</td>\n",
       "      <td>347742</td>\n",
       "      <td>11.1333</td>\n",
       "      <td>NaN</td>\n",
       "      <td>S</td>\n",
       "      <td>0</td>\n",
       "      <td>0.0</td>\n",
       "    </tr>\n",
       "  </tbody>\n",
       "</table>\n",
       "</div>"
      ],
      "text/plain": [
       "             Pclass                                               Name  \\\n",
       "PassengerId                                                              \n",
       "4                 1       Futrelle, Mrs. Jacques Heath (Lily May Peel)   \n",
       "6                 3                                   Moran, Mr. James   \n",
       "7                 1                            McCarthy, Mr. Timothy J   \n",
       "8                 3                     Palsson, Master. Gosta Leonard   \n",
       "9                 3  Johnson, Mrs. Oscar W (Elisabeth Vilhelmina Berg)   \n",
       "\n",
       "                Sex   Age  SibSp  Parch  Ticket     Fare Cabin Embarked  \\\n",
       "PassengerId                                                               \n",
       "4            female  35.0      1      0  113803  53.1000  C123        S   \n",
       "6              male   NaN      0      0  330877   8.4583   NaN        Q   \n",
       "7              male  54.0      0      0   17463  51.8625   E46        S   \n",
       "8              male   2.0      3      1  349909  21.0750   NaN        S   \n",
       "9            female  27.0      0      2  347742  11.1333   NaN        S   \n",
       "\n",
       "             train_test  Survived  \n",
       "PassengerId                        \n",
       "4                     0       1.0  \n",
       "6                     0       0.0  \n",
       "7                     0       1.0  \n",
       "8                     0       0.0  \n",
       "9                     0       0.0  "
      ]
     },
     "execution_count": 115,
     "metadata": {},
     "output_type": "execute_result"
    }
   ],
   "source": [
    "test.head()"
   ]
  },
  {
   "cell_type": "code",
   "execution_count": null,
   "metadata": {},
   "outputs": [],
   "source": []
  }
 ],
 "metadata": {
  "kernelspec": {
   "display_name": "Python 3 (ipykernel)",
   "language": "python",
   "name": "python3"
  },
  "language_info": {
   "codemirror_mode": {
    "name": "ipython",
    "version": 3
   },
   "file_extension": ".py",
   "mimetype": "text/x-python",
   "name": "python",
   "nbconvert_exporter": "python",
   "pygments_lexer": "ipython3",
   "version": "3.7.11"
  },
  "papermill": {
   "duration": 1508.291842,
   "end_time": "2021-04-08T02:42:50.599747",
   "environment_variables": {},
   "exception": null,
   "input_path": "__notebook__.ipynb",
   "output_path": "__notebook__.ipynb",
   "parameters": {},
   "start_time": "2021-04-08T02:17:42.307905",
   "version": "2.1.0"
  }
 },
 "nbformat": 4,
 "nbformat_minor": 4
}
